{
 "cells": [
  {
   "cell_type": "code",
   "execution_count": null,
   "id": "0dec7949-444a-481d-bf08-ea18ca441d79",
   "metadata": {},
   "outputs": [],
   "source": []
  },
  {
   "cell_type": "code",
   "execution_count": 1,
   "id": "4903c134-2c25-433a-80b6-7f5358e24596",
   "metadata": {},
   "outputs": [],
   "source": [
    "import os\n",
    "import cv2\n",
    "import matplotlib.pyplot as plt\n",
    "import numpy as np\n",
    "from collections import Counter\n",
    "import pandas as pd"
   ]
  },
  {
   "cell_type": "code",
   "execution_count": null,
   "id": "66cf2f8b-762b-4795-878e-47f5b484a875",
   "metadata": {},
   "outputs": [],
   "source": []
  },
  {
   "cell_type": "code",
   "execution_count": 20,
   "id": "6a8b7d33-34db-4cb8-9aae-1450dad24583",
   "metadata": {},
   "outputs": [],
   "source": [
    "# Paths\n",
    "images_dir = \"../data/train/images\"\n",
    "labels_dir = \"../data/train/labels\"\n",
    "\n",
    "# Class mapping\n",
    "class_map = {\n",
    "    0: 'dog',\n",
    "    1: 'cat',\n",
    "    2: 'cow',\n",
    "    3: 'goat',\n",
    "    4: 'boar',\n",
    "    5: 'deer',\n",
    "    6: 'leopard'\n",
    "}"
   ]
  },
  {
   "cell_type": "code",
   "execution_count": 21,
   "id": "21a2debf-2d83-4000-ace0-b0545425e40a",
   "metadata": {},
   "outputs": [
    {
     "name": "stdout",
     "output_type": "stream",
     "text": [
      "Total images: 513\n",
      "Total label files: 513\n"
     ]
    }
   ],
   "source": [
    "image_files = sorted([f for f in os.listdir(images_dir) if f.endswith('.jpg') or f.endswith('.png')])\n",
    "label_files = sorted([f for f in os.listdir(labels_dir) if f.endswith('.txt')])\n",
    "\n",
    "print(f'Total images: {len(image_files)}')\n",
    "print(f'Total label files: {len(label_files)}')"
   ]
  },
  {
   "cell_type": "code",
   "execution_count": 23,
   "id": "216f10fa-af3c-4616-8688-5de1c62e5b3b",
   "metadata": {},
   "outputs": [
    {
     "name": "stdout",
     "output_type": "stream",
     "text": [
      "Unique class values found:\n",
      "- 0\n",
      "- 1\n",
      "- 2\n",
      "- 3\n",
      "- 4\n",
      "- 5\n",
      "- 6\n",
      "- boar\n",
      "- cat\n",
      "- cow\n",
      "- deer\n",
      "- dog\n",
      "- goat\n",
      "- leopard\n",
      "\n",
      "Total unique classes: 14\n"
     ]
    }
   ],
   "source": [
    "# Verify directory exists\n",
    "if not os.path.exists(labels_dir):\n",
    "    print(f\"Error: Directory '{labels_dir}' does not exist\")\n",
    "    exit(1)\n",
    "\n",
    "unique_classes = set()\n",
    "\n",
    "# Iterate through all .txt files in labels directory\n",
    "for label_file in os.listdir(labels_dir):\n",
    "    if label_file.endswith('.txt'):\n",
    "        file_path = os.path.join(labels_dir, label_file)\n",
    "        \n",
    "        try:\n",
    "            with open(file_path, 'r') as f:\n",
    "                for line in f:\n",
    "                    # Skip empty lines\n",
    "                    if not line.strip():\n",
    "                        continue\n",
    "                    \n",
    "                    # Get first token (class value)\n",
    "                    class_value = line.split()[0]\n",
    "                    unique_classes.add(class_value)\n",
    "                    \n",
    "        except Exception as e:\n",
    "            print(f\"Error processing {file_path}: {str(e)}\")\n",
    "\n",
    "# Print results\n",
    "print(\"Unique class values found:\")\n",
    "for cls in sorted(unique_classes):\n",
    "    print(f\"- {cls}\")\n",
    "\n",
    "print(f\"\\nTotal unique classes: {len(unique_classes)}\")"
   ]
  },
  {
   "cell_type": "code",
   "execution_count": 27,
   "id": "bacc2ee0-621e-4106-9449-d7f0b8101a35",
   "metadata": {},
   "outputs": [
    {
     "name": "stdout",
     "output_type": "stream",
     "text": [
      "Counter({2: 594, 5: 174, 3: 162, 4: 102, 0: 78, 1: 74, 6: 74})\n"
     ]
    },
    {
     "data": {
      "image/png": "[encoded data removed]",
      "text/plain": [
       "<Figure size 640x480 with 1 Axes>"
      ]
     },
     "metadata": {},
     "output_type": "display_data"
    }
   ],
   "source": [
    "all_classes = []\n",
    "for label_file in label_files:\n",
    "    if label_file != \"classes.txt\":\n",
    "        with open(os.path.join(labels_dir, label_file)) as f:\n",
    "            for line in f:\n",
    "                class_idx = int(line.split()[0])\n",
    "                all_classes.append(class_idx)\n",
    "\n",
    "class_counts = Counter(all_classes)\n",
    "\n",
    "#print all object counts\n",
    "for class_idx in sorted(class_counts):\n",
    "    class_name = class_map.get(class_idx, str(class_idx))\n",
    "    print(f\"{class_name} - {class_counts[class_idx]}\")\n",
    "\n",
    "#plot object counts \n",
    "plt.bar([class_map[c] for c in class_counts.keys()], class_counts.values())\n",
    "plt.title('Class Distribution')\n",
    "plt.xlabel('Class')\n",
    "plt.ylabel('Number of Objects')\n",
    "plt.show()"
   ]
  },
  {
   "cell_type": "code",
   "execution_count": null,
   "id": "ef749614-d271-4989-a21c-4f1748ad7f92",
   "metadata": {},
   "outputs": [],
   "source": []
  }
 ],
 "metadata": {
  "kernelspec": {
   "display_name": "Python 3 (ipykernel)",
   "language": "python",
   "name": "python3"
  },
  "language_info": {
   "codemirror_mode": {
    "name": "ipython",
    "version": 3
   },
   "file_extension": ".py",
   "mimetype": "text/x-python",
   "name": "python",
   "nbconvert_exporter": "python",
   "pygments_lexer": "ipython3",
   "version": "3.12.4"
  }
 },
 "nbformat": 4,
 "nbformat_minor": 5
}
